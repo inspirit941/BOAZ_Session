{
 "cells": [
  {
   "cell_type": "markdown",
   "metadata": {},
   "source": [
    "# BOAZ 12기 1주차 과제 파이썬 기초 문법"
   ]
  },
  {
   "cell_type": "markdown",
   "metadata": {},
   "source": [
    "- 원하는 함수가 기억이 안나면 [이곳](https://wikidocs.net/book/1)을 참고해주세요\n",
    "- 자주 사용하는 함수는 기억하는 것이 좋지만 대부분 기억이 나지 않습니다\n",
    "- 원하는 기능이 있는 함수를 구글링 하는 능력이 중요합니다\n",
    "- 영어로 어떻게 검색해야 하는지 학습하는 것이 가장 좋습니다"
   ]
  },
  {
   "cell_type": "markdown",
   "metadata": {},
   "source": [
    "#### 1. 자료형 문제\n",
    "#### 1-1. Slice 기능을 이용해 'you need python'(모두 소문자로) 을 출력하세요. "
   ]
  },
  {
   "cell_type": "code",
   "execution_count": 2,
   "metadata": {},
   "outputs": [],
   "source": [
    "a = \"Life is too short, You need Python\""
   ]
  },
  {
   "cell_type": "code",
   "execution_count": 3,
   "metadata": {},
   "outputs": [
    {
     "data": {
      "text/plain": [
       "'You need Python'"
      ]
     },
     "execution_count": 3,
     "metadata": {},
     "output_type": "execute_result"
    }
   ],
   "source": [
    "# Your Code Here\n",
    "\"\".join(list(a)[19:])"
   ]
  },
  {
   "cell_type": "markdown",
   "metadata": {},
   "source": [
    "#### 1-2. 숫자와 나누는 수를 입력하면 나머지를 반환하는 함수 remainder를 작성하세요"
   ]
  },
  {
   "cell_type": "code",
   "execution_count": 4,
   "metadata": {},
   "outputs": [],
   "source": [
    "# Your Code Here\n",
    "def remainder(a, b):\n",
    "    return a % b"
   ]
  },
  {
   "cell_type": "code",
   "execution_count": 5,
   "metadata": {},
   "outputs": [
    {
     "data": {
      "text/plain": [
       "2"
      ]
     },
     "execution_count": 5,
     "metadata": {},
     "output_type": "execute_result"
    }
   ],
   "source": [
    "remainder(5,3)"
   ]
  },
  {
   "cell_type": "markdown",
   "metadata": {},
   "source": [
    "#### 1-2. 입력한 수의 평균을 반환하는 함수 mean을 작성하세요 (*args를 이용해보세요 !)"
   ]
  },
  {
   "cell_type": "code",
   "execution_count": 6,
   "metadata": {},
   "outputs": [],
   "source": [
    "# Your Code Here\n",
    "def mean(*args):\n",
    "    return sum(args) / len(args)"
   ]
  },
  {
   "cell_type": "code",
   "execution_count": 7,
   "metadata": {},
   "outputs": [
    {
     "data": {
      "text/plain": [
       "2.0"
      ]
     },
     "execution_count": 7,
     "metadata": {},
     "output_type": "execute_result"
    }
   ],
   "source": [
    "mean(1,2,3)"
   ]
  },
  {
   "cell_type": "code",
   "execution_count": 8,
   "metadata": {
    "scrolled": true
   },
   "outputs": [
    {
     "name": "stdout",
     "output_type": "stream",
     "text": [
      "2.0\n",
      "4.5\n"
     ]
    }
   ],
   "source": [
    "print(mean(1,2,3),mean(1,2,3,4,5,6,7,8), sep = \"\\n\")"
   ]
  },
  {
   "cell_type": "markdown",
   "metadata": {},
   "source": [
    "#### 1-3. for와 range를 사용해서 0부터 9까지 중 홀수인 1, 3, 5, 7, 9만 odd_nums에 저장하고 출력하는 코드를 짜보세요. "
   ]
  },
  {
   "cell_type": "code",
   "execution_count": 9,
   "metadata": {},
   "outputs": [
    {
     "data": {
      "text/plain": [
       "[1, 3, 5, 7, 9]"
      ]
     },
     "execution_count": 9,
     "metadata": {},
     "output_type": "execute_result"
    }
   ],
   "source": [
    "odd_nums = []\n",
    "# Your Code Here \n",
    "for i in range(0,10,2):\n",
    "    odd_nums.append(i+1)\n",
    "odd_nums"
   ]
  },
  {
   "cell_type": "markdown",
   "metadata": {},
   "source": [
    "#### 1-4. 다음 리스트에서 생일만 리스트에 담는 함수 birth를 작성하세요"
   ]
  },
  {
   "cell_type": "code",
   "execution_count": 10,
   "metadata": {},
   "outputs": [
    {
     "name": "stdout",
     "output_type": "stream",
     "text": [
      "[' 930115-1234567', '990101- 2257262', '000327 - 1010209', '010101-2047219 ', '9706091360217']\n"
     ]
    }
   ],
   "source": [
    "pin1 = \" 930115-1234567\"\n",
    "pin2 = \"990101- 2257262\"\n",
    "pin3 = \"000327 - 1010209\"\n",
    "pin4 = \"010101-2047219 \"\n",
    "pin5 = \"9706091360217\"\n",
    "pin = [pin1, pin2, pin3, pin4, pin5]\n",
    "print(pin)"
   ]
  },
  {
   "cell_type": "code",
   "execution_count": 11,
   "metadata": {},
   "outputs": [],
   "source": [
    "# Your Code Here\n",
    "def birth(List):\n",
    "    result =[]\n",
    "    for i in pin:\n",
    "        i = i.replace(\" \",\"\")\n",
    "        result.append(i[2:6])\n",
    "    return result"
   ]
  },
  {
   "cell_type": "code",
   "execution_count": 12,
   "metadata": {
    "scrolled": true
   },
   "outputs": [
    {
     "data": {
      "text/plain": [
       "['0115', '0101', '0327', '0101', '0609']"
      ]
     },
     "execution_count": 12,
     "metadata": {},
     "output_type": "execute_result"
    }
   ],
   "source": [
    "birth(pin)"
   ]
  },
  {
   "cell_type": "markdown",
   "metadata": {},
   "source": [
    "#### 2. 함수 문제\n",
    "#### 2-1.  if/ elif/ else문을 사용해서 2019년이 윤년인지 계산하는 코드를 짜보세요. \n",
    "- 윤년 계산법\n",
    "    - 연도가 400으로 나누어 떨어지면 윤년입니다. \n",
    "    - 연도가 4로 나누어 떨어지면서 100으로 나누어 떨어지지 않으면 윤년입니다. "
   ]
  },
  {
   "cell_type": "code",
   "execution_count": 13,
   "metadata": {},
   "outputs": [
    {
     "name": "stdout",
     "output_type": "stream",
     "text": [
      "윤년이 아님\n"
     ]
    }
   ],
   "source": [
    "year = 2019 \n",
    "### your code ### \n",
    "if year % 400 == 0:\n",
    "    print(\"윤년\")\n",
    "elif year % 4 ==0 and year % 100 !=0:\n",
    "    print(\"윤년\")\n",
    "else:\n",
    "    print(\"윤년이 아님\")"
   ]
  },
  {
   "cell_type": "markdown",
   "metadata": {},
   "source": [
    "#### 2-2. 더하기, 빼기, 곱하기, 나누기 기능이 있는 클래스 Calculator를 작성하세요"
   ]
  },
  {
   "cell_type": "code",
   "execution_count": 14,
   "metadata": {},
   "outputs": [],
   "source": [
    "# Your Code Here\n",
    "class Calculator:\n",
    "    def __init__(self, num1, num2):\n",
    "        self.num1 = num1\n",
    "        self.num2 = num2\n",
    "    def add(self):\n",
    "        return self.num1+self.num2\n",
    "    def substract(self):\n",
    "        return self.num1 - self.num2\n",
    "    def multiply(self):\n",
    "        return self.num1 * self.num2\n",
    "    def divide(self):\n",
    "        return self.num1/self.num2"
   ]
  },
  {
   "cell_type": "code",
   "execution_count": 15,
   "metadata": {},
   "outputs": [
    {
     "name": "stdout",
     "output_type": "stream",
     "text": [
      "20\n",
      "6\n",
      "91\n",
      "1.8571428571428572\n"
     ]
    }
   ],
   "source": [
    "Cal = Calculator(13,7)\n",
    "print(Cal.add(),Cal.substract(),Cal.multiply(),Cal.divide(), sep = \"\\n\")"
   ]
  },
  {
   "cell_type": "markdown",
   "metadata": {},
   "source": [
    "#### 2-3. 가위바위보 게임 만들기\n",
    "다음 요구사항에 맞는 가위바위보 게임을 만들어보세요. "
   ]
  },
  {
   "cell_type": "code",
   "execution_count": 16,
   "metadata": {},
   "outputs": [
    {
     "name": "stdout",
     "output_type": "stream",
     "text": [
      "\n",
      "가위 바위 보 중 하나를 내주세요!\n",
      "가위\n"
     ]
    },
    {
     "ename": "NameError",
     "evalue": "name 'win' is not defined",
     "output_type": "error",
     "traceback": [
      "\u001b[0;31m---------------------------------------------------------------------------\u001b[0m",
      "\u001b[0;31mNameError\u001b[0m                                 Traceback (most recent call last)",
      "\u001b[0;32m<ipython-input-16-88b437f82424>\u001b[0m in \u001b[0;36m<module>\u001b[0;34m\u001b[0m\n\u001b[1;32m     28\u001b[0m     \u001b[0mwin_message\u001b[0m \u001b[0;34m=\u001b[0m \u001b[0;34m[\u001b[0m\u001b[0;34m\"졌습니다\"\u001b[0m\u001b[0;34m,\u001b[0m \u001b[0;34m\"비겼습니다\"\u001b[0m\u001b[0;34m,\u001b[0m \u001b[0;34m\"이겼습니다\"\u001b[0m\u001b[0;34m]\u001b[0m\u001b[0;34m\u001b[0m\u001b[0;34m\u001b[0m\u001b[0m\n\u001b[1;32m     29\u001b[0m     \u001b[0mprint\u001b[0m\u001b[0;34m(\u001b[0m\u001b[0mcomputerChoice\u001b[0m\u001b[0;34m)\u001b[0m\u001b[0;34m\u001b[0m\u001b[0;34m\u001b[0m\u001b[0m\n\u001b[0;32m---> 30\u001b[0;31m     \u001b[0mprint\u001b[0m \u001b[0;34m(\u001b[0m\u001b[0mwin_message\u001b[0m\u001b[0;34m[\u001b[0m\u001b[0mwin\u001b[0m\u001b[0;34m]\u001b[0m\u001b[0;34m)\u001b[0m\u001b[0;34m\u001b[0m\u001b[0;34m\u001b[0m\u001b[0m\n\u001b[0m",
      "\u001b[0;31mNameError\u001b[0m: name 'win' is not defined"
     ]
    }
   ],
   "source": [
    "# 사용자에게 '가위', '바위', '보'를 입력받으세요. \n",
    "import random \n",
    "while True:\n",
    "    computerNumber = random.randint(0, 2)\n",
    "    playerChoice = input()\n",
    "    if playerChoice==\"끝\":\n",
    "        break\n",
    "        \n",
    "    if computerNumber == 0:\n",
    "        computerChoice = \"보\"\n",
    "    elif computerNumber == 1:\n",
    "        computerChoice = \"가위\"\n",
    "    else:\n",
    "        computerChoice = \"바위\"\n",
    "    winning_rsp = {\"가위\" : \"보\", \"보\" : \"바위\", \"바위\" : \"가위\"}\n",
    "\n",
    "    if not playerChoice in winning_rsp:\n",
    "        print(\"가위 바위 보 중 하나를 내주세요!\")\n",
    "\n",
    "    else:\n",
    "        if computerChoice == playerChoice:\n",
    "            win = 1\n",
    "        elif winning_rsp[playerChoice] == computerChoice:\n",
    "            win = 2\n",
    "        else:\n",
    "            win = 0\n",
    "\n",
    "    win_message = [\"졌습니다\", \"비겼습니다\", \"이겼습니다\"]\n",
    "    print(computerChoice)\n",
    "    print (win_message[win])"
   ]
  },
  {
   "cell_type": "markdown",
   "metadata": {},
   "source": [
    "# Numpy 연습문제"
   ]
  },
  {
   "cell_type": "markdown",
   "metadata": {},
   "source": [
    "#### 1. Matrix 연산\n",
    "#### 1-1. 다음과 같은 matrix a, b를 생성하고 서로 곱해보세요"
   ]
  },
  {
   "cell_type": "code",
   "execution_count": 17,
   "metadata": {},
   "outputs": [],
   "source": [
    "import numpy as np"
   ]
  },
  {
   "cell_type": "code",
   "execution_count": 18,
   "metadata": {},
   "outputs": [
    {
     "data": {
      "text/plain": [
       "array([[ 42,  52,  62],\n",
       "       [106, 132, 158],\n",
       "       [170, 212, 254]])"
      ]
     },
     "execution_count": 18,
     "metadata": {},
     "output_type": "execute_result"
    }
   ],
   "source": [
    "# Your Code Here\n",
    "a = np.array([[1,2,3,4],\n",
    " [ 5 , 6 , 7 ,8],\n",
    " [ 9 ,10 ,11 ,12]])\n",
    "b = np.array([[ 1,  2 , 3],\n",
    " [ 5 , 6 , 7],\n",
    " [ 9, 10, 11],\n",
    " [ 1 , 2 , 3]])\n",
    "a.dot(b)"
   ]
  },
  {
   "cell_type": "code",
   "execution_count": 19,
   "metadata": {},
   "outputs": [
    {
     "name": "stdout",
     "output_type": "stream",
     "text": [
      "[[ 1  2  3  4]\n",
      " [ 5  6  7  8]\n",
      " [ 9 10 11 12]]\n",
      "[[ 1  2  3]\n",
      " [ 5  6  7]\n",
      " [ 9 10 11]\n",
      " [ 1  2  3]]\n"
     ]
    }
   ],
   "source": [
    "print(a,b, sep =\"\\n\")"
   ]
  },
  {
   "cell_type": "markdown",
   "metadata": {},
   "source": [
    "#### 1-2. 다음 두 벡터의 내적과 외적 값을 구하세요"
   ]
  },
  {
   "cell_type": "code",
   "execution_count": 20,
   "metadata": {},
   "outputs": [],
   "source": [
    "import numpy as np\n",
    "a = np.array([1,2,3,4,5])\n",
    "b = np.array([6,7,8,9,10])"
   ]
  },
  {
   "cell_type": "code",
   "execution_count": 21,
   "metadata": {},
   "outputs": [
    {
     "name": "stdout",
     "output_type": "stream",
     "text": [
      "130\n",
      "[[ 6  7  8  9 10]\n",
      " [12 14 16 18 20]\n",
      " [18 21 24 27 30]\n",
      " [24 28 32 36 40]\n",
      " [30 35 40 45 50]]\n"
     ]
    }
   ],
   "source": [
    "# Your Code Here\n",
    "print(a.dot(b))\n",
    "print(a.reshape(5,1).dot(b.reshape(1,5)))"
   ]
  },
  {
   "cell_type": "markdown",
   "metadata": {},
   "source": [
    "# Pandas"
   ]
  },
  {
   "cell_type": "markdown",
   "metadata": {},
   "source": [
    "#### 1. dataframe 다루기\n",
    "#### 1-1. 다음과 같은 dataframe을 생성하세요"
   ]
  },
  {
   "cell_type": "code",
   "execution_count": 22,
   "metadata": {},
   "outputs": [],
   "source": [
    "# Your Code Here\n",
    "import pandas as pd\n",
    "labels = ['조','이름','성별']\n",
    "data = [\n",
    "    (\"A\",\"전승우\",1),\n",
    "(\"A\",\"유응규\",1),\n",
    "(\"A\",\"박재언\",1),\n",
    "(\"A\",\"신광욱\",1),\n",
    "(\"A\",\"박현정\",2),\n",
    "(\"A\",\"문현주\",2),\n",
    "(\"B\",\"성민석\",1),\n",
    "(\"B\",\"이형남\",1),\n",
    "(\"B\",\"전은정\",2),\n",
    "(\"B\",\"김아영\",2),\n",
    "(\"B\",\"남궁찬\",1),\n",
    "(\"B\",\"고동희\",1),\n",
    "(\"C\",\"박서호\",1),\n",
    "(\"C\",\"지현이\",2),\n",
    "(\"C\",\"윤훈상\",1),\n",
    "(\"C\",\"양광민\",1),\n",
    "(\"C\",\"송원호\",1),\n",
    "(\"D\",\"양태일\",1),\n",
    "(\"D\",\"하진용\",1),\n",
    "(\"D\",\"정해원\",2),\n",
    "(\"D\",\"유승룡\",1),\n",
    "(\"D\",\"전용진\",1),\n",
    "(\"E\",\"신하은\",2),\n",
    "(\"E\",\"조문기\",1),\n",
    "(\"E\",\"장현정\",2),\n",
    "(\"E\",\"최준명\",1),\n",
    "(\"E\",\"이동건\",1)\n",
    "]\n",
    "twelve = pd.DataFrame.from_records(data,columns = labels)"
   ]
  },
  {
   "cell_type": "code",
   "execution_count": 23,
   "metadata": {
    "scrolled": true
   },
   "outputs": [
    {
     "data": {
      "text/html": [
       "<div>\n",
       "<style scoped>\n",
       "    .dataframe tbody tr th:only-of-type {\n",
       "        vertical-align: middle;\n",
       "    }\n",
       "\n",
       "    .dataframe tbody tr th {\n",
       "        vertical-align: top;\n",
       "    }\n",
       "\n",
       "    .dataframe thead th {\n",
       "        text-align: right;\n",
       "    }\n",
       "</style>\n",
       "<table border=\"1\" class=\"dataframe\">\n",
       "  <thead>\n",
       "    <tr style=\"text-align: right;\">\n",
       "      <th></th>\n",
       "      <th>조</th>\n",
       "      <th>이름</th>\n",
       "      <th>성별</th>\n",
       "    </tr>\n",
       "  </thead>\n",
       "  <tbody>\n",
       "    <tr>\n",
       "      <th>0</th>\n",
       "      <td>A</td>\n",
       "      <td>전승우</td>\n",
       "      <td>1</td>\n",
       "    </tr>\n",
       "    <tr>\n",
       "      <th>1</th>\n",
       "      <td>A</td>\n",
       "      <td>유응규</td>\n",
       "      <td>1</td>\n",
       "    </tr>\n",
       "    <tr>\n",
       "      <th>2</th>\n",
       "      <td>A</td>\n",
       "      <td>박재언</td>\n",
       "      <td>1</td>\n",
       "    </tr>\n",
       "    <tr>\n",
       "      <th>3</th>\n",
       "      <td>A</td>\n",
       "      <td>신광욱</td>\n",
       "      <td>1</td>\n",
       "    </tr>\n",
       "    <tr>\n",
       "      <th>4</th>\n",
       "      <td>A</td>\n",
       "      <td>박현정</td>\n",
       "      <td>2</td>\n",
       "    </tr>\n",
       "    <tr>\n",
       "      <th>5</th>\n",
       "      <td>A</td>\n",
       "      <td>문현주</td>\n",
       "      <td>2</td>\n",
       "    </tr>\n",
       "    <tr>\n",
       "      <th>6</th>\n",
       "      <td>B</td>\n",
       "      <td>성민석</td>\n",
       "      <td>1</td>\n",
       "    </tr>\n",
       "    <tr>\n",
       "      <th>7</th>\n",
       "      <td>B</td>\n",
       "      <td>이형남</td>\n",
       "      <td>1</td>\n",
       "    </tr>\n",
       "    <tr>\n",
       "      <th>8</th>\n",
       "      <td>B</td>\n",
       "      <td>전은정</td>\n",
       "      <td>2</td>\n",
       "    </tr>\n",
       "    <tr>\n",
       "      <th>9</th>\n",
       "      <td>B</td>\n",
       "      <td>김아영</td>\n",
       "      <td>2</td>\n",
       "    </tr>\n",
       "    <tr>\n",
       "      <th>10</th>\n",
       "      <td>B</td>\n",
       "      <td>남궁찬</td>\n",
       "      <td>1</td>\n",
       "    </tr>\n",
       "    <tr>\n",
       "      <th>11</th>\n",
       "      <td>B</td>\n",
       "      <td>고동희</td>\n",
       "      <td>1</td>\n",
       "    </tr>\n",
       "    <tr>\n",
       "      <th>12</th>\n",
       "      <td>C</td>\n",
       "      <td>박서호</td>\n",
       "      <td>1</td>\n",
       "    </tr>\n",
       "    <tr>\n",
       "      <th>13</th>\n",
       "      <td>C</td>\n",
       "      <td>지현이</td>\n",
       "      <td>2</td>\n",
       "    </tr>\n",
       "    <tr>\n",
       "      <th>14</th>\n",
       "      <td>C</td>\n",
       "      <td>윤훈상</td>\n",
       "      <td>1</td>\n",
       "    </tr>\n",
       "    <tr>\n",
       "      <th>15</th>\n",
       "      <td>C</td>\n",
       "      <td>양광민</td>\n",
       "      <td>1</td>\n",
       "    </tr>\n",
       "    <tr>\n",
       "      <th>16</th>\n",
       "      <td>C</td>\n",
       "      <td>송원호</td>\n",
       "      <td>1</td>\n",
       "    </tr>\n",
       "    <tr>\n",
       "      <th>17</th>\n",
       "      <td>D</td>\n",
       "      <td>양태일</td>\n",
       "      <td>1</td>\n",
       "    </tr>\n",
       "    <tr>\n",
       "      <th>18</th>\n",
       "      <td>D</td>\n",
       "      <td>하진용</td>\n",
       "      <td>1</td>\n",
       "    </tr>\n",
       "    <tr>\n",
       "      <th>19</th>\n",
       "      <td>D</td>\n",
       "      <td>정해원</td>\n",
       "      <td>2</td>\n",
       "    </tr>\n",
       "    <tr>\n",
       "      <th>20</th>\n",
       "      <td>D</td>\n",
       "      <td>유승룡</td>\n",
       "      <td>1</td>\n",
       "    </tr>\n",
       "    <tr>\n",
       "      <th>21</th>\n",
       "      <td>D</td>\n",
       "      <td>전용진</td>\n",
       "      <td>1</td>\n",
       "    </tr>\n",
       "    <tr>\n",
       "      <th>22</th>\n",
       "      <td>E</td>\n",
       "      <td>신하은</td>\n",
       "      <td>2</td>\n",
       "    </tr>\n",
       "    <tr>\n",
       "      <th>23</th>\n",
       "      <td>E</td>\n",
       "      <td>조문기</td>\n",
       "      <td>1</td>\n",
       "    </tr>\n",
       "    <tr>\n",
       "      <th>24</th>\n",
       "      <td>E</td>\n",
       "      <td>장현정</td>\n",
       "      <td>2</td>\n",
       "    </tr>\n",
       "    <tr>\n",
       "      <th>25</th>\n",
       "      <td>E</td>\n",
       "      <td>최준명</td>\n",
       "      <td>1</td>\n",
       "    </tr>\n",
       "    <tr>\n",
       "      <th>26</th>\n",
       "      <td>E</td>\n",
       "      <td>이동건</td>\n",
       "      <td>1</td>\n",
       "    </tr>\n",
       "  </tbody>\n",
       "</table>\n",
       "</div>"
      ],
      "text/plain": [
       "    조   이름  성별\n",
       "0   A  전승우   1\n",
       "1   A  유응규   1\n",
       "2   A  박재언   1\n",
       "3   A  신광욱   1\n",
       "4   A  박현정   2\n",
       "5   A  문현주   2\n",
       "6   B  성민석   1\n",
       "7   B  이형남   1\n",
       "8   B  전은정   2\n",
       "9   B  김아영   2\n",
       "10  B  남궁찬   1\n",
       "11  B  고동희   1\n",
       "12  C  박서호   1\n",
       "13  C  지현이   2\n",
       "14  C  윤훈상   1\n",
       "15  C  양광민   1\n",
       "16  C  송원호   1\n",
       "17  D  양태일   1\n",
       "18  D  하진용   1\n",
       "19  D  정해원   2\n",
       "20  D  유승룡   1\n",
       "21  D  전용진   1\n",
       "22  E  신하은   2\n",
       "23  E  조문기   1\n",
       "24  E  장현정   2\n",
       "25  E  최준명   1\n",
       "26  E  이동건   1"
      ]
     },
     "execution_count": 23,
     "metadata": {},
     "output_type": "execute_result"
    }
   ],
   "source": [
    "twelve"
   ]
  },
  {
   "cell_type": "markdown",
   "metadata": {},
   "source": [
    "#### 1-2. A조 남자와 E조 여자를 출력하세요"
   ]
  },
  {
   "cell_type": "code",
   "execution_count": 24,
   "metadata": {},
   "outputs": [
    {
     "data": {
      "text/html": [
       "<div>\n",
       "<style scoped>\n",
       "    .dataframe tbody tr th:only-of-type {\n",
       "        vertical-align: middle;\n",
       "    }\n",
       "\n",
       "    .dataframe tbody tr th {\n",
       "        vertical-align: top;\n",
       "    }\n",
       "\n",
       "    .dataframe thead th {\n",
       "        text-align: right;\n",
       "    }\n",
       "</style>\n",
       "<table border=\"1\" class=\"dataframe\">\n",
       "  <thead>\n",
       "    <tr style=\"text-align: right;\">\n",
       "      <th></th>\n",
       "      <th>조</th>\n",
       "      <th>이름</th>\n",
       "      <th>성별</th>\n",
       "    </tr>\n",
       "  </thead>\n",
       "  <tbody>\n",
       "    <tr>\n",
       "      <th>0</th>\n",
       "      <td>A</td>\n",
       "      <td>전승우</td>\n",
       "      <td>1</td>\n",
       "    </tr>\n",
       "    <tr>\n",
       "      <th>1</th>\n",
       "      <td>A</td>\n",
       "      <td>유응규</td>\n",
       "      <td>1</td>\n",
       "    </tr>\n",
       "    <tr>\n",
       "      <th>2</th>\n",
       "      <td>A</td>\n",
       "      <td>박재언</td>\n",
       "      <td>1</td>\n",
       "    </tr>\n",
       "    <tr>\n",
       "      <th>3</th>\n",
       "      <td>A</td>\n",
       "      <td>신광욱</td>\n",
       "      <td>1</td>\n",
       "    </tr>\n",
       "    <tr>\n",
       "      <th>22</th>\n",
       "      <td>E</td>\n",
       "      <td>신하은</td>\n",
       "      <td>2</td>\n",
       "    </tr>\n",
       "    <tr>\n",
       "      <th>24</th>\n",
       "      <td>E</td>\n",
       "      <td>장현정</td>\n",
       "      <td>2</td>\n",
       "    </tr>\n",
       "  </tbody>\n",
       "</table>\n",
       "</div>"
      ],
      "text/plain": [
       "    조   이름  성별\n",
       "0   A  전승우   1\n",
       "1   A  유응규   1\n",
       "2   A  박재언   1\n",
       "3   A  신광욱   1\n",
       "22  E  신하은   2\n",
       "24  E  장현정   2"
      ]
     },
     "execution_count": 24,
     "metadata": {},
     "output_type": "execute_result"
    }
   ],
   "source": [
    "# Your Code Here\n",
    "twelve.loc[((twelve['조']=='A') & (twelve[\"성별\"]==1))|((twelve['조']=='E') & (twelve['성별']==2)),:]"
   ]
  },
  {
   "cell_type": "markdown",
   "metadata": {},
   "source": [
    "#### 1-3. 이씨를 출력하세요 (List 내포 for문을 써서 한줄로 짜보세요 !)"
   ]
  },
  {
   "cell_type": "code",
   "execution_count": 25,
   "metadata": {},
   "outputs": [],
   "source": [
    "# Your Code Here\n",
    "result = list(x for x in list(twelve.이름) if x[0]=='이')"
   ]
  },
  {
   "cell_type": "code",
   "execution_count": 26,
   "metadata": {},
   "outputs": [
    {
     "data": {
      "text/plain": [
       "['이형남', '이동건']"
      ]
     },
     "execution_count": 26,
     "metadata": {},
     "output_type": "execute_result"
    }
   ],
   "source": [
    "result"
   ]
  }
 ],
 "metadata": {
  "kernelspec": {
   "display_name": "Python 3",
   "language": "python",
   "name": "python3"
  },
  "language_info": {
   "codemirror_mode": {
    "name": "ipython",
    "version": 3
   },
   "file_extension": ".py",
   "mimetype": "text/x-python",
   "name": "python",
   "nbconvert_exporter": "python",
   "pygments_lexer": "ipython3",
   "version": "3.7.1"
  }
 },
 "nbformat": 4,
 "nbformat_minor": 2
}
