{
 "cells": [
  {
   "cell_type": "markdown",
   "metadata": {},
   "source": [
    "# 1. Linear Regression with OLS(Ordinary Least Square)\n",
    "#### y = ax + b의 간단한 선형회귀식을 만들어 오차제곱합을 최소화하는 a와 b를 찾아봅시다"
   ]
  },
  {
   "cell_type": "code",
   "execution_count": 1,
   "metadata": {},
   "outputs": [],
   "source": [
    "# 단순 선형 회귀를 위한 임의의 데이터셋을 생성합니다.\n",
    "seed = 1215\n",
    "from sklearn.datasets import make_regression\n",
    "X, y = make_regression(n_samples=1000, n_features=1, noise=3.0, random_state=seed)\n",
    "\n",
    "X_train = X[:800]\n",
    "X_test = X[800:]\n",
    "y_train = y[:800]\n",
    "y_test = y[800:]"
   ]
  },
  {
   "cell_type": "markdown",
   "metadata": {},
   "source": [
    "### 1-1. 다음과 같은 산점도(scatter plot)을 그려주세요"
   ]
  },
  {
   "cell_type": "code",
   "execution_count": 3,
   "metadata": {},
   "outputs": [
    {
     "data": {
      "image/png": "[encoded data removed]",
      "text/plain": [
       "<Figure size 432x288 with 1 Axes>"
      ]
     },
     "metadata": {
      "needs_background": "light"
     },
     "output_type": "display_data"
    }
   ],
   "source": [
    "import matplotlib.pyplot as plt\n",
    "\n",
    "plt.legend([\"train\", \"test\"])\n",
    "plt.show()\n",
    "# Your Code Here\n",
    "###\n",
    "###"
   ]
  },
  {
   "cell_type": "markdown",
   "metadata": {},
   "source": [
    "### 1-2. h(x) = x+1 일때, train set(X_train, y_train)의 오차 제곱합 평균(Mean Square Error)을 구하세요"
   ]
  },
  {
   "cell_type": "code",
   "execution_count": 4,
   "metadata": {},
   "outputs": [
    {
     "name": "stdout",
     "output_type": "stream",
     "text": [
      "[90.55459607]\n",
      "0:00:00.003989\n"
     ]
    }
   ],
   "source": [
    "from datetime import datetime\n",
    "\n",
    "def MSE(X_train, y_train):\n",
    "    error = 0\n",
    "# Your Code Here(for문을 이용해 짜보세요)\n",
    "    for i, j in ###\n",
    "        ###\n",
    "    return ###\n",
    "\n",
    "# seed가 같을 경우 MSE값은 같아야 합니다.\n",
    "start = datetime.now()\n",
    "print(MSE(X_train, y_train))\n",
    "print(datetime.now()-start)"
   ]
  },
  {
   "cell_type": "markdown",
   "metadata": {},
   "source": [
    "### 1.3 h(x) = 2x 일 때, train set(X_train, y_train)의 오차 제곱합 평균(Mean Square Error)을 구하세요"
   ]
  },
  {
   "cell_type": "code",
   "execution_count": 6,
   "metadata": {},
   "outputs": [
    {
     "name": "stdout",
     "output_type": "stream",
     "text": [
      "35.905558387581024\n",
      "0:00:00\n"
     ]
    }
   ],
   "source": [
    "import numpy as np\n",
    "from datetime import datetime\n",
    "\n",
    "y_train = y_train.reshape(800,1)\n",
    "\n",
    "m = y_train.size\n",
    "\n",
    "# Your Code Here(np.dot과 .T(transpose)를 이용해 짜보세요 MSE with vectorize)\n",
    "def h(theta,X):\n",
    "    return ###\n",
    "\n",
    "def MSE(mytheta,X,y):\n",
    "    return ###\n",
    "\n",
    "# seed가 같을 경우 MSE값은 같아야 합니다.\n",
    "# vertorize된 함수가 훨씬 빠릅니다 !\n",
    "start = datetime.now()\n",
    "print(MSE(2,X_train,y_train))\n",
    "print(datetime.now()-start)"
   ]
  },
  {
   "cell_type": "markdown",
   "metadata": {},
   "source": [
    "### 1-4. sklearn.linear_model의 Linear Regression을 이용해 최적의 a,b를 찾으세요"
   ]
  },
  {
   "cell_type": "code",
   "execution_count": 7,
   "metadata": {
    "scrolled": true
   },
   "outputs": [
    {
     "name": "stdout",
     "output_type": "stream",
     "text": [
      "y = 9.8012X + -0.1666\n",
      "Mean Squared Error : 9.352834376815956\n",
      "R^2 : 0.8995829250965823\n"
     ]
    },
    {
     "data": {
      "image/png": "[encoded data removed]",
      "text/plain": [
       "<Figure size 432x288 with 1 Axes>"
      ]
     },
     "metadata": {
      "needs_background": "light"
     },
     "output_type": "display_data"
    }
   ],
   "source": [
    "from sklearn.linear_model import LinearRegression\n",
    "from sklearn.metrics import mean_squared_error, r2_score\n",
    "\n",
    "# Your Code Here(sklearn에서 LinearRegression 함수를 불러오고 X_train과 y_train에 적합시켜보세요)\n",
    "\n",
    "###\n",
    "###\n",
    "\n",
    "# optimal a,b based on OLS\n",
    "print(\"y = %.4fX + %.4f\"%(float(model.coef_[0]),float(model.intercept_)))\n",
    "\n",
    "# Your Code Here(X_test에 대해서 predict를 해보고 mse를 구해보세요)\n",
    "\n",
    "###\n",
    "###\n",
    "\n",
    "# r2_score\n",
    "r_square = r2_score(y_test, y_pred)\n",
    "print(\"Mean Squared Error :\",mse)\n",
    "print(\"R^2 :\",r_square)\n",
    "\n",
    "# Your Code Here (test set을 scatter plot으로 나타내고, 본인이 구한 선형회귀식을 다음과 같은 직선으로 나타내보세요)\n",
    "###\n",
    "###\n",
    "plt.legend([\"reg\",\"test\"])\n",
    "plt.show()"
   ]
  },
  {
   "cell_type": "markdown",
   "metadata": {},
   "source": [
    "# 2. Linear Regression with Gradient Descent"
   ]
  },
  {
   "cell_type": "markdown",
   "metadata": {},
   "source": [
    "![gradientdescent](https://cdncontribute.geeksforgeeks.org/wp-content/uploads/Cost-Function.jpg)"
   ]
  },
  {
   "cell_type": "markdown",
   "metadata": {},
   "source": [
    "### 2-1. h(x) = ax라는 식을 만들어 Gradient Descent를 이용해 mse를 최소화하는 a를 찾아보세요"
   ]
  },
  {
   "cell_type": "code",
   "execution_count": 8,
   "metadata": {},
   "outputs": [],
   "source": [
    "iterations = 10000\n",
    "learningrate = 0.01\n",
    "m = y_train.size\n",
    "y_test = y_test.reshape(200,1)\n",
    "\n",
    "# 초기값(theta_start)은 자유입니다\n",
    "def Gradientdescent(X, y, theta_start):\n",
    "    theta = theta_start\n",
    "    \n",
    "    for meaningless in range(iterations):\n",
    "        # Your Code Here \n",
    "        # (newtheta = theta-(learningrate/number of training examples)X derivative Loss with respect to theta)\n",
    "        # Loss function을 theta에 대해 직접 미분해보세요(tip.Chain rule)\n",
    "        ###\n",
    "\n",
    "    y_pred = theta*X_test\n",
    "    r_square = r2_score(y_test, y_pred)    \n",
    "    \n",
    "    return print('Optimal \"a\" is:', round(theta,3), '\\n','MSE :', round(MSE(theta, X_test, y_test),3),'\\n', 'R^2 :', round(r_square,3))"
   ]
  },
  {
   "cell_type": "code",
   "execution_count": 9,
   "metadata": {},
   "outputs": [
    {
     "name": "stdout",
     "output_type": "stream",
     "text": [
      "Optimal \"a\" is: 9.803 \n",
      " MSE : 1.178 \n",
      " R^2 : 0.899\n"
     ]
    }
   ],
   "source": [
    "Gradientdescent(X_train,y_train,0)"
   ]
  },
  {
   "cell_type": "markdown",
   "metadata": {},
   "source": [
    "### 2-2. 이번에는 같은 함수에서 iteration 전에 Loss(MSE)를 계산해보고 다음과 같은 plot으로 나타내보세요"
   ]
  },
  {
   "cell_type": "code",
   "execution_count": 10,
   "metadata": {},
   "outputs": [
    {
     "data": {
      "text/plain": [
       "[<matplotlib.lines.Line2D at 0x28854ff74e0>]"
      ]
     },
     "execution_count": 10,
     "metadata": {},
     "output_type": "execute_result"
    },
    {
     "data": {
      "image/png": "[encoded data removed]",
      "text/plain": [
       "<Figure size 720x432 with 1 Axes>"
      ]
     },
     "metadata": {
      "needs_background": "light"
     },
     "output_type": "display_data"
    }
   ],
   "source": [
    "iterations = 10000\n",
    "learningrate = 0.01\n",
    "m = y_train.size\n",
    "\n",
    "# 초기값(theta_start)은 자유입니다\n",
    "def Gradientdescent(X, y, theta_start):\n",
    "    theta = theta_start\n",
    "    Loss = []\n",
    "    for meaningless in range(iterations):\n",
    "        # Your Code Here\n",
    "        ###\n",
    "        ###\n",
    "    return Loss\n",
    "\n",
    "Loss = Gradientdescent(X_train,y_train, 0)\n",
    "\n",
    "plt.figure(figsize=(10,6))\n",
    "plt.grid(True)\n",
    "plt.title(\"Convergence of Cost Function\")\n",
    "plt.xlabel(\"Iteration number\")\n",
    "plt.ylabel(\"Loss\")\n",
    "plt.xlim([0,1000])\n",
    "plt.ylim([0,10])\n",
    "# Your Code Here\n",
    "###"
   ]
  },
  {
   "cell_type": "markdown",
   "metadata": {},
   "source": [
    "# 2. Logistic Regression"
   ]
  },
  {
   "cell_type": "code",
   "execution_count": 11,
   "metadata": {},
   "outputs": [],
   "source": [
    "import sklearn.datasets\n",
    "seed = 1215\n",
    "X, y = sklearn.datasets.make_classification(n_samples=1000, n_features=2, n_classes=2, n_informative = 2, n_redundant = 0, n_repeated = 0,random_state = seed)\n",
    "\n",
    "X_train = X[:800]\n",
    "X_train = X_train[:,0]\n",
    "X_test = X[800:]\n",
    "X_test = X_test[:,0]\n",
    "y_train = y[:800]\n",
    "y_test = y[800:]"
   ]
  },
  {
   "cell_type": "markdown",
   "metadata": {},
   "source": [
    "### 2-1. 다음과 같은 산점도를 그려주세요"
   ]
  },
  {
   "cell_type": "code",
   "execution_count": 12,
   "metadata": {},
   "outputs": [
    {
     "data": {
      "image/png": "[encoded data removed]",
      "text/plain": [
       "<Figure size 432x288 with 1 Axes>"
      ]
     },
     "metadata": {
      "needs_background": "light"
     },
     "output_type": "display_data"
    }
   ],
   "source": [
    "import matplotlib.pyplot as plt\n",
    "\n",
    "plt.legend([\"train\", \"test\"])\n",
    "# Your Code Here\n",
    "###\n",
    "###\n",
    "\n",
    "plt.show()"
   ]
  },
  {
   "cell_type": "markdown",
   "metadata": {},
   "source": [
    "### 2-2. 가중치가 1일 때 loss를 계산해보세요. h(x) = 1/1+e^-x 입니다\n",
    "![logisticregression](https://i.stack.imgur.com/XbU4S.png)"
   ]
  },
  {
   "cell_type": "code",
   "execution_count": 13,
   "metadata": {},
   "outputs": [],
   "source": [
    "import math\n",
    "\n",
    "def sigmoid(x, mytheta):\n",
    "    try:\n",
    "        sig = 1 / (1 + math.exp(-mytheta*x))\n",
    "    except:\n",
    "        sig = 700\n",
    "    return sig"
   ]
  },
  {
   "cell_type": "code",
   "execution_count": 14,
   "metadata": {},
   "outputs": [
    {
     "name": "stdout",
     "output_type": "stream",
     "text": [
      "0.8341687267245149\n"
     ]
    }
   ],
   "source": [
    "def LogisticLoss(X, y, mytheta):\n",
    "    error0 = 0\n",
    "    error1 = 0\n",
    "# Your Code Here(for문을 이용해 짜보세요)\n",
    "# math.log는 0에 가까우면 오류가 뜹니다(계산이 안됩니다).\n",
    "# try, except를 이용해 sigmoid와 같이 log값을 700 또는 -700으로 설정해주세요\n",
    "    for i, j in zip(X, y):\n",
    "        if j == 0:\n",
    "            try:\n",
    "                ###\n",
    "            except:\n",
    "                ###\n",
    "        elif j == 1:\n",
    "            try:\n",
    "                ###\n",
    "            except:\n",
    "                ###\n",
    "    return ###\n",
    "\n",
    "# seed가 같을 경우 LogisticLoss값은 같아야 합니다.\n",
    "print(LogisticLoss(X_train, y_train, 1))"
   ]
  },
  {
   "cell_type": "markdown",
   "metadata": {},
   "source": [
    "### 2-3. Gradient Descent 기반으로 주어진 loss를 최소화하는 weight를 찾아보세요."
   ]
  },
  {
   "cell_type": "code",
   "execution_count": 15,
   "metadata": {},
   "outputs": [],
   "source": [
    "iterations = 1000\n",
    "learningrate = 0.002\n",
    "m = y_train.size\n",
    "\n",
    "# 초기값은 자유입니다\n",
    "def Gradientdescent(X, y, theta_start):\n",
    "    theta = theta_start\n",
    "    for meaningless in range(iterations):\n",
    "        # Your Code Here\n",
    "        # Cross Entropy Loss를 theta에 대해 미분하면 됩니다.\n",
    "        # Cross Entropy Loss 미분은 아래의 동영상을 참고하세요\n",
    "        # https://www.youtube.com/watch?v=mLth3-4yn4Q \n",
    "        ###\n",
    "    LogisticLoss(X_test, y_test, theta)\n",
    "    return print('Optimal \"a\" is:', round(theta,3), '\\n','Logistic Loss :', round(LogisticLoss(X_test, y_test, theta),3))"
   ]
  },
  {
   "cell_type": "code",
   "execution_count": 16,
   "metadata": {},
   "outputs": [
    {
     "name": "stdout",
     "output_type": "stream",
     "text": [
      "Optimal \"a\" is: 0.0 \n",
      " Logistic Loss : 0.693\n"
     ]
    }
   ],
   "source": [
    "Gradientdescent(X_train,y_train,100)"
   ]
  },
  {
   "cell_type": "markdown",
   "metadata": {},
   "source": [
    "### 2-4. Loss의 변화를 plot으로 나타내보세요."
   ]
  },
  {
   "cell_type": "code",
   "execution_count": 17,
   "metadata": {},
   "outputs": [],
   "source": [
    "iterations = 1000\n",
    "learningrate = 0.0001\n",
    "m = y_train.size\n",
    "\n",
    "# 초기값은 자유입니다\n",
    "def Gradientdescent(X, y, theta_start):\n",
    "    theta = theta_start\n",
    "    loss = []\n",
    "    for meaningless in range(iterations):\n",
    "        #Your Code Here\n",
    "        ###\n",
    "        ###\n",
    "        ###\n",
    "    LogisticLoss(X_test, y_test, theta)\n",
    "    return loss"
   ]
  },
  {
   "cell_type": "code",
   "execution_count": 18,
   "metadata": {},
   "outputs": [],
   "source": [
    "# 100으로 하면 Convergence가 좀 더 잘 보입니다.\n",
    "Loss = Gradientdescent(X_train,y_train,100)"
   ]
  },
  {
   "cell_type": "code",
   "execution_count": 19,
   "metadata": {},
   "outputs": [
    {
     "data": {
      "text/plain": [
       "[<matplotlib.lines.Line2D at 0x288558f24e0>]"
      ]
     },
     "execution_count": 19,
     "metadata": {},
     "output_type": "execute_result"
    },
    {
     "data": {
      "image/png": "[encoded data removed]",
      "text/plain": [
       "<Figure size 720x432 with 1 Axes>"
      ]
     },
     "metadata": {
      "needs_background": "light"
     },
     "output_type": "display_data"
    }
   ],
   "source": [
    "plt.figure(figsize=(10,6))\n",
    "plt.grid(True)\n",
    "plt.title(\"Convergence of Cost Function\")\n",
    "plt.xlabel(\"Iteration number\")\n",
    "plt.ylabel(\"Loss\")\n",
    "plt.xlim([0,1000])\n",
    "plt.ylim([0,10])\n",
    "#Your Code Here\n"
   ]
  },
  {
   "cell_type": "markdown",
   "metadata": {},
   "source": [
    "# 고생하셨습니다 :)"
   ]
  }
 ],
 "metadata": {
  "kernelspec": {
   "display_name": "Python 3",
   "language": "python",
   "name": "python3"
  },
  "language_info": {
   "codemirror_mode": {
    "name": "ipython",
    "version": 3
   },
   "file_extension": ".py",
   "mimetype": "text/x-python",
   "name": "python",
   "nbconvert_exporter": "python",
   "pygments_lexer": "ipython3",
   "version": "3.7.1"
  },
  "latex_envs": {
   "LaTeX_envs_menu_present": true,
   "autoclose": false,
   "autocomplete": true,
   "bibliofile": "biblio.bib",
   "cite_by": "apalike",
   "current_citInitial": 1,
   "eqLabelWithNumbers": true,
   "eqNumInitial": 1,
   "hotkeys": {
    "equation": "Ctrl-E",
    "itemize": "Ctrl-I"
   },
   "labels_anchors": false,
   "latex_user_defs": false,
   "report_style_numbering": false,
   "user_envs_cfg": false
  },
  "toc": {
   "base_numbering": 1,
   "nav_menu": {},
   "number_sections": true,
   "sideBar": true,
   "skip_h1_title": false,
   "title_cell": "Table of Contents",
   "title_sidebar": "Contents",
   "toc_cell": false,
   "toc_position": {},
   "toc_section_display": true,
   "toc_window_display": false
  },
  "varInspector": {
   "cols": {
    "lenName": 16,
    "lenType": 16,
    "lenVar": 40
   },
   "kernels_config": {
    "python": {
     "delete_cmd_postfix": "",
     "delete_cmd_prefix": "del ",
     "library": "var_list.py",
     "varRefreshCmd": "print(var_dic_list())"
    },
    "r": {
     "delete_cmd_postfix": ") ",
     "delete_cmd_prefix": "rm(",
     "library": "var_list.r",
     "varRefreshCmd": "cat(var_dic_list()) "
    }
   },
   "types_to_exclude": [
    "module",
    "function",
    "builtin_function_or_method",
    "instance",
    "_Feature"
   ],
   "window_display": false
  }
 },
 "nbformat": 4,
 "nbformat_minor": 2
}
