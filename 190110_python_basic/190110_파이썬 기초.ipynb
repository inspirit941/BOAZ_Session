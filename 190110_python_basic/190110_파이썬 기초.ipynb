{
 "cells": [
  {
   "cell_type": "markdown",
   "metadata": {},
   "source": [
    "null은 아무것도 가리기키 않는 것\n",
    "none은 하나의 타입으로 인정됨.\n",
    "\n",
    "파이썬도 캐릭터 타입은 있는데, 굳이 쓰질 않음 (char, String 구분을 따로 하지 않음. 필요하면 구분하지만)\n",
    "\n",
    "dict에서 .get(\"키값\") 함수는 설령 값이 없어도 none을 반환하기 때문에 오류가 나지 않는다고 함.\n",
    "(인덱스 기반으로 가져오면 한참 함수 돌리다가 오류나서 멈춰버릴 수 있기 때문)\n",
    "\n",
    "for문을 선호한다라....... 현업자 맞으려나..?\n",
    "\n",
    "함수에 주소값을 넘겨주는.. call by value, reference 방식이 대부분의 언어에서 이루어지는데\n",
    "파이썬은 call by object 기반이다. return 설정을 해줘야 함.\n",
    "\n",
    "리스트는 포인터만 연결한 집합임. 저장된 데이터가 메모리 공간에 흩어져 있는 셈이다.\n",
    "그래서 리스트 연산이 느림.(매번 포인터 search를 해줘야 하기 때문)\n",
    "이걸 보완하는 게 numpy.\n",
    "\n",
    "개발자...구나.\n",
    "\n",
    "jupyter editor(확장프로그램 설치하기. numpy.ipynb에 링크 있다)\n",
    "\n",
    "pandas의 drop은 원래 데이터를 건드리지 않는다.\n",
    "ex) tmp_frame = frame.drop(1) 같은. delete를 쓸 경우 원본객체 데이터를 지워버림.\n",
    "\n",
    "axis=1은 세로축, 0은 가로축.\n",
    "\n",
    "\n",
    "아니 기초강의에서 멀티프로세싱을 왜 가르치는 거지...\n",
    "딱히 필요도 없는데 초창기 레벨에는."
   ]
  },
  {
   "cell_type": "code",
   "execution_count": 6,
   "metadata": {},
   "outputs": [],
   "source": [
    "from multiprocessing import Pool, cpu_count\n",
    "import time\n",
    "import pandas as pd\n",
    "import numpy as np"
   ]
  },
  {
   "cell_type": "code",
   "execution_count": 5,
   "metadata": {},
   "outputs": [
    {
     "data": {
      "text/plain": [
       "12"
      ]
     },
     "execution_count": 5,
     "metadata": {},
     "output_type": "execute_result"
    }
   ],
   "source": [
    "num_cores = cpu_count()\n",
    "num_cores"
   ]
  },
  {
   "cell_type": "code",
   "execution_count": 2,
   "metadata": {},
   "outputs": [],
   "source": [
    "def parallelize_dateframe(df, func):\n",
    "    df_split = np.array_split(df,num_cores) # 갯수만큼 나눔\n",
    "    pool = Pool(processes = num_cores) # 개수 정함\n",
    "    df = pd.concat(pool.map(func, df_split)) # 각각 할당\n",
    "    pool.close()\n",
    "    pool.join()\n",
    "    return df\n",
    "def func(data):\n",
    "    print('working process',data)\n",
    "    df['c2'] = df['c1'].map(lambda x: x+1)\n",
    "    df['c3'] = df.apply(lambda x: apply_func(df['c1'],df['c2']))\n",
    "    df['c4'] = df[['c1','c2']].apply(lambda x: apply_func(x[0],x[1]))\n",
    "    return data\n",
    "if __name__ == '__main__':\n",
    "    start_time = time.time()\n",
    "    train_data_soc_fill_na = parallelize_dataframe(df,func)\n",
    "    end_time = time.time()"
   ]
  },
  {
   "cell_type": "code",
   "execution_count": null,
   "metadata": {},
   "outputs": [],
   "source": []
  }
 ],
 "metadata": {
  "kernelspec": {
   "display_name": "Python 3",
   "language": "python",
   "name": "python3"
  },
  "language_info": {
   "codemirror_mode": {
    "name": "ipython",
    "version": 3
   },
   "file_extension": ".py",
   "mimetype": "text/x-python",
   "name": "python",
   "nbconvert_exporter": "python",
   "pygments_lexer": "ipython3",
   "version": "3.7.1"
  }
 },
 "nbformat": 4,
 "nbformat_minor": 2
}
