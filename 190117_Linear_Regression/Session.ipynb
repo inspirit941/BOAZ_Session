{
 "cells": [
  {
   "cell_type": "markdown",
   "metadata": {},
   "source": [
    "데이터 분석의 기초는 어쨌든 선형회귀. regression과 분류문제는 다르다. 로지스틱만 놓고 보면 비슷해보일 수 있지만.\n",
    "\n",
    "regression은 종속변수가 연속형일 때. 다른 독립변수가 주어졌을 때 종속변수의 값을 예측할 때 쓴다.\n",
    "GDP 예측 등에서도 종종 사용.\n",
    "\n",
    "분류\n",
    "회귀 문제로 접근할 경우 로지스틱을 사용한다. 분류 문제는 선형을 그냥 쓰면 안 되기 때문에 sigmoid나 ReLU를 쓴다.\n",
    "activation 함수로 sigmoid나 ReLU를 쓰기 때문에 잘 알아두는 게 중요하다.\n",
    "\n",
    "cost function(머신러닝) = MSE (통계)\n",
    "\n",
    "parameter 추정할 때의 방법이 좀 다르다. 정통 회귀는 OLS를 쓰기 때문. 어차피 결과는 같지만.\n",
    "'얼마나 모수의 값을 잘 예측하는가.'\n",
    "\n",
    "bias / variance 문제 -> mse 수식을 변형해 전개하다 보면 bias^2 + variance. 둘은 반비례값이다.\n",
    "\n",
    "bias는 모수와 추정치가 얼마나 떨어져 있는가\n",
    "variance는 민감도.\n",
    "\n",
    "bias 높으면 variance 낮음. 이 경우 모델은 유연하지 않으나 이해가 쉬움\n",
    "반대의 경우는 overfitting되는 경우가 있음. 이 사이의 균형점을 찾는 게 회귀에서 제일 중요한 문제.\n",
    "\n",
    "count variable은 포아송. "
   ]
  },
  {
   "cell_type": "code",
   "execution_count": null,
   "metadata": {},
   "outputs": [],
   "source": []
  },
  {
   "cell_type": "code",
   "execution_count": null,
   "metadata": {},
   "outputs": [],
   "source": []
  }
 ],
 "metadata": {
  "kernelspec": {
   "display_name": "Python 3",
   "language": "python",
   "name": "python3"
  },
  "language_info": {
   "codemirror_mode": {
    "name": "ipython",
    "version": 3
   },
   "file_extension": ".py",
   "mimetype": "text/x-python",
   "name": "python",
   "nbconvert_exporter": "python",
   "pygments_lexer": "ipython3",
   "version": "3.7.1"
  }
 },
 "nbformat": 4,
 "nbformat_minor": 2
}
